{
 "cells": [
  {
   "cell_type": "code",
   "execution_count": null,
   "metadata": {},
   "outputs": [],
   "source": [
    "import pandas as pd\n",
    "aisles = pd.read_csv(\"aisles.csv\")\n",
    "departments = pd.read_csv(\"departments.csv\")\n",
    "\n",
    "order_products_train = pd.concat([pd.read_csv(\"order_products__train.csv\"),pd.read_csv('order_products__prior.csv')],axis=0)\n",
    "orders = pd.read_csv(\"orders.csv\")\n",
    "products = pd.read_csv(\"products.csv\")"
   ]
  },
  {
   "cell_type": "code",
   "execution_count": null,
   "metadata": {},
   "outputs": [],
   "source": [
    "departments.head()"
   ]
  },
  {
   "cell_type": "code",
   "execution_count": null,
   "metadata": {},
   "outputs": [],
   "source": [
    "aisles.head()"
   ]
  },
  {
   "cell_type": "code",
   "execution_count": null,
   "metadata": {},
   "outputs": [],
   "source": [
    "products.head()"
   ]
  },
  {
   "cell_type": "code",
   "execution_count": null,
   "metadata": {},
   "outputs": [],
   "source": [
    "orders.head()"
   ]
  },
  {
   "cell_type": "code",
   "execution_count": null,
   "metadata": {},
   "outputs": [],
   "source": [
    "order_products_train.head()"
   ]
  },
  {
   "cell_type": "markdown",
   "metadata": {},
   "source": [
    "products.aisle_id > aisles.aisle_id\n",
    "\n",
    "products.department_id > departments.department_id\n",
    "\n",
    "order_products_train.order_id > orders.order_id"
   ]
  },
  {
   "cell_type": "code",
   "execution_count": null,
   "metadata": {},
   "outputs": [],
   "source": [
    "combined = pd.merge(order_products_train,orders,how=\"inner\",left_on=\"order_id\",right_on=\"order_id\")\n",
    "combined = pd.merge(products,combined,how=\"inner\",left_on=\"product_id\",right_on=\"product_id\")\n",
    "combined = pd.merge(aisles,combined,how=\"inner\",left_on=\"aisle_id\",right_on=\"aisle_id\")\n",
    "combined = pd.merge(departments,combined,how=\"inner\",left_on=\"department_id\",right_on=\"department_id\")\n",
    "combined.columns"
   ]
  },
  {
   "cell_type": "code",
   "execution_count": null,
   "metadata": {},
   "outputs": [],
   "source": [
    "combined.shape,order_products_train.shape"
   ]
  },
  {
   "cell_type": "code",
   "execution_count": null,
   "metadata": {},
   "outputs": [],
   "source": [
    "#should be 1\n",
    "combined.groupby(['order_id','product_id']).count().max()"
   ]
  },
  {
   "cell_type": "code",
   "execution_count": null,
   "metadata": {},
   "outputs": [],
   "source": [
    "missing = combined.isnull().sum().reset_index()\n",
    "missing['Missing %'] = missing.iloc[:,1]/combined.shape[0]*100\n",
    "missing.columns = ['Attribute Name','Missing Count','Missing %']\n",
    "missing"
   ]
  },
  {
   "cell_type": "code",
   "execution_count": null,
   "metadata": {},
   "outputs": [],
   "source": [
    "pd.options.display.float_format = '{:.2f}'.format\n",
    "combined.describe()"
   ]
  },
  {
   "cell_type": "code",
   "execution_count": null,
   "metadata": {},
   "outputs": [],
   "source": [
    "#should be equal\n",
    "print(combined.groupby(['order_id'])['product_id'].count().max())\n",
    "print(combined['add_to_cart_order'].max())"
   ]
  },
  {
   "cell_type": "code",
   "execution_count": null,
   "metadata": {},
   "outputs": [],
   "source": [
    "combined[combined['reordered'] ==1].groupby(['user_id'])['reordered'].count().describe()\n"
   ]
  },
  {
   "cell_type": "code",
   "execution_count": null,
   "metadata": {},
   "outputs": [],
   "source": [
    "combined.groupby(['user_id'])['reordered'].count().describe()"
   ]
  },
  {
   "cell_type": "code",
   "execution_count": null,
   "metadata": {},
   "outputs": [],
   "source": [
    "import matplotlib.pyplot as plt\n",
    "plt.hist(combined['order_hour_of_day'],bins=24)\n",
    "plt.ylabel(\"Count\")\n",
    "plt.xlabel(\"Hour of day\")\n",
    "plt.show()"
   ]
  },
  {
   "cell_type": "code",
   "execution_count": null,
   "metadata": {},
   "outputs": [],
   "source": [
    "import matplotlib.pyplot as plt\n",
    "plt.hist(combined['order_dow'].astype(int),bins=7)\n",
    "plt.ylabel(\"Count\")\n",
    "plt.xlabel(\"Day of week\")\n",
    "plt.show()"
   ]
  },
  {
   "cell_type": "code",
   "execution_count": null,
   "metadata": {},
   "outputs": [],
   "source": [
    "combined.groupby(['user_id'])['reordered'].count().values"
   ]
  },
  {
   "cell_type": "code",
   "execution_count": null,
   "metadata": {},
   "outputs": [],
   "source": [
    "import matplotlib.pyplot as plt\n",
    "plt.hist(combined.groupby(['user_id'])['reordered'].count().values)\n",
    "plt.ylabel(\"Count\")\n",
    "plt.xlabel(\"Total products ordered per user\")\n",
    "plt.yscale(\"log\")\n",
    "plt.show()\n"
   ]
  },
  {
   "cell_type": "code",
   "execution_count": null,
   "metadata": {},
   "outputs": [],
   "source": [
    "import matplotlib.pyplot as plt\n",
    "plt.hist(combined[combined['reordered']==1].groupby(['user_id'])['reordered'].count().values)\n",
    "plt.ylabel(\"Count\")\n",
    "plt.xlabel(\"Total reordered products ordered per user\")\n",
    "plt.yscale(\"log\")\n",
    "plt.show()\n"
   ]
  },
  {
   "cell_type": "code",
   "execution_count": 42,
   "metadata": {},
   "outputs": [
    {
     "data": {
      "image/png": "[encoded data removed]",
      "text/plain": [
       "<Figure size 640x480 with 1 Axes>"
      ]
     },
     "metadata": {},
     "output_type": "display_data"
    }
   ],
   "source": [
    "import matplotlib.pyplot as plt\n",
    "a = combined.groupby(['product_id'])['reordered'].count().values\n",
    "b = a[a<100]\n",
    "plt.hist(b,bins=15)\n",
    "plt.ylabel(\"Count\")\n",
    "plt.xlabel(\"Total orders per product (up to 100)\")\n",
    "plt.yscale(\"log\")\n",
    "plt.show()\n"
   ]
  }
 ],
 "metadata": {
  "kernelspec": {
   "display_name": "Python 3",
   "language": "python",
   "name": "python3"
  },
  "language_info": {
   "codemirror_mode": {
    "name": "ipython",
    "version": 3
   },
   "file_extension": ".py",
   "mimetype": "text/x-python",
   "name": "python",
   "nbconvert_exporter": "python",
   "pygments_lexer": "ipython3",
   "version": "3.10.6"
  },
  "orig_nbformat": 4
 },
 "nbformat": 4,
 "nbformat_minor": 2
}

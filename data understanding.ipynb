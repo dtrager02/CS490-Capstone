version https://git-lfs.github.com/spec/v1
oid sha256:5d20d6b7922e11bdced4e5bdfb40ea77fdb542b8da4bc535a34f769701dfd81c
size 109877
